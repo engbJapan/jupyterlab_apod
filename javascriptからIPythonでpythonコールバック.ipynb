{
 "cells": [
  {
   "cell_type": "code",
   "execution_count": 1,
   "id": "2c971565",
   "metadata": {},
   "outputs": [],
   "source": [
    "#ref https://jakevdp.github.io/blog/2013/06/01/ipython-notebook-javascript-python-communication/\n",
    "from IPython.display import HTML\n",
    "from math import pi, sin\n",
    "from uuid import uuid4"
   ]
  },
  {
   "cell_type": "code",
   "execution_count": 22,
   "id": "d327f6d5",
   "metadata": {},
   "outputs": [
    {
     "name": "stdout",
     "output_type": "stream",
     "text": [
      "uids='50ba52ff-afe5-478c-9b46-aef3bc84e7b5'\n"
     ]
    },
    {
     "data": {
      "text/html": [
       "\n",
       "<div style=\"background-color:gainsboro; border:solid black; width:600px; padding:20px;\">\n",
       "    Code: <input type=\"text\" id=\"code_input-50ba52ff-afe5-478c-9b46-aef3bc84e7b5\" size=\"50\" height=\"2\" value=\"sin(pi / 2)\">\n",
       "<br>\n",
       "    Result: <input type=\"text\" id=\"result_output-50ba52ff-afe5-478c-9b46-aef3bc84e7b5\" size=\"50\" value=\"1.0\">\n",
       "<br>\n",
       "    <button onclick=\"exec_code()\">Execute</button>\n",
       "</div>\n",
       "\n",
       "<script type=\"text/Javascript\">\n",
       "    function handle_output(out) {\n",
       "        console.log(out);\n",
       "        var res = null;\n",
       "        var contentypes = Object.keys(out.content.data);\n",
       "        var values = Object.values(out.content.data);\n",
       "        console.log(\"contentypes=\"+contentypes);\n",
       "        console.log(\"values=\"+values);\n",
       "        res = out.content.data[contentypes[0]];\n",
       "        document.getElementById(\"result_output-50ba52ff-afe5-478c-9b46-aef3bc84e7b5\").value = res;\n",
       "    }\n",
       "    \n",
       "    function exec_code(){\n",
       "        var code_input = document.getElementById('code_input-50ba52ff-afe5-478c-9b46-aef3bc84e7b5').value;\n",
       "        console.log(\"code_input=\"+code_input);\n",
       "        var kernel = IPython.notebook.kernel;\n",
       "        console.log(\"kernel=\"+kernel);\n",
       "        var callbacks = {'iopub': {\"output\": handle_output}};\n",
       "        document.getElementById(\"result_output-50ba52ff-afe5-478c-9b46-aef3bc84e7b5\").value = \"\";  // clear output box\n",
       "        var msg_id = kernel.execute(code_input, callbacks, {silent:false});\n",
       "        console.log(\"button pressed\");\n",
       "    }\n",
       "</script>\n"
      ],
      "text/plain": [
       "<IPython.core.display.HTML object>"
      ]
     },
     "execution_count": 22,
     "metadata": {},
     "output_type": "execute_result"
    }
   ],
   "source": [
    "# Add an input form similar to what we saw above\n",
    "uids=str(uuid4())\n",
    "print(f\"{uids=}\")\n",
    "input_form = f\"\"\"\n",
    "<div style=\"background-color:gainsboro; border:solid black; width:600px; padding:20px;\">\n",
    "    Code: <input type=\"text\" id=\"code_input-{uids}\" size=\"50\" height=\"2\" value=\"sin(pi / 2)\">\n",
    "<br>\n",
    "    Result: <input type=\"text\" id=\"result_output-{uids}\" size=\"50\" value=\"1.0\">\n",
    "<br>\n",
    "    <button onclick=\"exec_code()\">Execute</button>\n",
    "</div>\n",
    "\"\"\"\n",
    "\n",
    "# here the javascript has a function to execute the code\n",
    "# within the input box, and a callback to handle the output.\n",
    "javascript = '''\n",
    "<script type=\"text/Javascript\">\n",
    "    function handle_output(out) {\n",
    "        console.log(out);\n",
    "        var res = null;\n",
    "        var contentypes = Object.keys(out.content.data);\n",
    "        var values = Object.values(out.content.data);\n",
    "        console.log(\"contentypes=\"+contentypes);\n",
    "        console.log(\"values=\"+values);\n",
    "        res = out.content.data[contentypes[0]];\n",
    "        document.getElementById(\"result_output-%s\").value = res;\n",
    "    }\n",
    "    \n",
    "    function exec_code(){\n",
    "        var code_input = document.getElementById('code_input-%s').value;\n",
    "        console.log(\"code_input=\"+code_input);\n",
    "        var kernel = IPython.notebook.kernel;\n",
    "        console.log(\"kernel=\"+kernel);\n",
    "        var callbacks = {'iopub': {\"output\": handle_output}};\n",
    "        document.getElementById(\"result_output-%s\").value = \"\";  // clear output box\n",
    "        var msg_id = kernel.execute(code_input, callbacks, {silent:false});\n",
    "        console.log(\"button pressed\");\n",
    "    }\n",
    "</script>\n",
    "''' % (uids,uids,uids) \n",
    "\n",
    "HTML(input_form + javascript)"
   ]
  },
  {
   "cell_type": "code",
   "execution_count": 16,
   "id": "9934c812",
   "metadata": {},
   "outputs": [
    {
     "name": "stdout",
     "output_type": "stream",
     "text": [
      "\n",
      "<div style=\"background-color:gainsboro; border:solid black; width:600px; padding:20px;\">\n",
      "    Code: <input type=\"text\" id=\"code_input-fb9f754a-aafb-4278-836f-8bda4941c9cb\" size=\"50\" height=\"2\" value=\"sin(pi / 2)\">\n",
      "<br>\n",
      "    Result: <input type=\"text\" id=\"result_output-fb9f754a-aafb-4278-836f-8bda4941c9cb\" size=\"50\" value=\"1.0\">\n",
      "<br>\n",
      "    <button onclick=\"exec_code()\">Execute</button>\n",
      "</div>\n",
      "\n"
     ]
    }
   ],
   "source": [
    "print(input_form)"
   ]
  },
  {
   "cell_type": "code",
   "execution_count": 17,
   "id": "531968c2",
   "metadata": {},
   "outputs": [
    {
     "name": "stdout",
     "output_type": "stream",
     "text": [
      "\n",
      "<script type=\"text/Javascript\">\n",
      "    function handle_output(out) {\n",
      "        console.log(out);\n",
      "        var res = null;\n",
      "        comsole.log(\"out.content.data=\"+out.content.data);\n",
      "        res = out.content.data['text/plain'];\n",
      "        document.getElementById(\"result_output-fb9f754a-aafb-4278-836f-8bda4941c9cb\").value = res;\n",
      "    }\n",
      "    \n",
      "    function exec_code(){\n",
      "        var code_input = document.getElementById('code_input-fb9f754a-aafb-4278-836f-8bda4941c9cb').value;\n",
      "        console.log(\"code_input=\"+code_input);\n",
      "        var kernel = IPython.notebook.kernel;\n",
      "        console.log(\"kernel=\"+kernel);\n",
      "        var callbacks = {'iopub': {\"output\": handle_output}};\n",
      "        document.getElementById(\"result_output-fb9f754a-aafb-4278-836f-8bda4941c9cb\").value = \"\";  // clear output box\n",
      "        var msg_id = kernel.execute(code_input, callbacks, {silent:false});\n",
      "        console.log(\"button pressed\");\n",
      "    }\n",
      "</script>\n",
      "\n"
     ]
    }
   ],
   "source": [
    "print(javascript)"
   ]
  },
  {
   "cell_type": "code",
   "execution_count": 5,
   "id": "4e938aee",
   "metadata": {},
   "outputs": [
    {
     "data": {
      "text/plain": [
       "1.0"
      ]
     },
     "execution_count": 5,
     "metadata": {},
     "output_type": "execute_result"
    }
   ],
   "source": [
    "sin(pi / 2)"
   ]
  }
 ],
 "metadata": {
  "kernelspec": {
   "display_name": "Python 3",
   "language": "python",
   "name": "python3"
  },
  "language_info": {
   "codemirror_mode": {
    "name": "ipython",
    "version": 3
   },
   "file_extension": ".py",
   "mimetype": "text/x-python",
   "name": "python",
   "nbconvert_exporter": "python",
   "pygments_lexer": "ipython3",
   "version": "3.9.16"
  }
 },
 "nbformat": 4,
 "nbformat_minor": 5
}
